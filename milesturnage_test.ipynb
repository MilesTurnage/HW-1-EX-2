{
  "metadata": {
    "kernelspec": {
      "name": "python",
      "display_name": "Python (Pyodide)",
      "language": "python"
    },
    "language_info": {
      "codemirror_mode": {
        "name": "python",
        "version": 3
      },
      "file_extension": ".py",
      "mimetype": "text/x-python",
      "name": "python",
      "nbconvert_exporter": "python",
      "pygments_lexer": "ipython3",
      "version": "3.8"
    }
  },
  "nbformat_minor": 4,
  "nbformat": 4,
  "cells": [
    {
      "cell_type": "code",
      "source": "# create two lists of numbers\nx = [10, 20, 30, 40, 50]\ny = [1, 2, 3, 4, 5]\n\n# multiply each element of the first list by each element of the second list\n# put results into result list\nresult = []\nfor i in x:\n  for j in y:\n    result.append(i * j)\n\n#return result list\nprint(result)",
      "metadata": {
        "trusted": true
      },
      "outputs": [],
      "execution_count": null
    }
  ]
}